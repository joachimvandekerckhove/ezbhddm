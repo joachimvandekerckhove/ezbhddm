{
 "cells": [
  {
   "cell_type": "code",
   "execution_count": 1,
   "id": "8c489658",
   "metadata": {},
   "outputs": [],
   "source": [
    "# Runs a small part of the EZBHDDM simulations\n",
    "\n",
    "import numpy as np\n",
    "import pandas as pd\n",
    "import pickle\n",
    "import os\n",
    "\n",
    "os.chdir('/srv/host/src/')\n",
    "\n",
    "import simulation\n"
   ]
  },
  {
   "cell_type": "code",
   "execution_count": 2,
   "id": "01037063",
   "metadata": {},
   "outputs": [],
   "source": [
    "# Set the number of participants and trials per participants\n",
    "P = np.array([5, 10])\n",
    "T = np.array([5, 10])\n",
    "\n",
    "# Create the simulation control object\n",
    "s = np.empty((len(P), len(T)), dtype=object)\n",
    "\n",
    "# Select the criterion from ['drift', 'bound', 'nondt']\n",
    "criterion = 'drift'\n",
    "\n",
    "# Select the design from ['ttest', 'linreg']\n",
    "design = 'ttest'\n",
    "\n",
    "# Set up the simulation\n",
    "for r, p in enumerate(P):\n",
    "    for c, t in enumerate(T):\n",
    "        if design == 'ttest':\n",
    "            s[r, c] = simulation.Hddm_Design(p, t, np.arange(0, p)%2, criterion)\n",
    "        if design == 'linreg':\n",
    "            s[r, c] = simulation.Hddm_Design(p, t, np.arange(0, p)/p, criterion)"
   ]
  },
  {
   "cell_type": "code",
   "execution_count": 3,
   "id": "29080c78",
   "metadata": {},
   "outputs": [
    {
     "name": "stdout",
     "output_type": "stream",
     "text": [
      "Progress [==================================================] 100.00%  (Discarding 1)\n",
      "Progress [==================================================] 100.00%\n",
      "Progress [==================================================] 100.00%\n",
      "Progress [==================================================] 100.00%\n"
     ]
    }
   ],
   "source": [
    "# Run the simulations\n",
    "for r, p in enumerate(P):\n",
    "    for c, t in enumerate(T):\n",
    "        s[r, c].run(100)  # Only 100 runs"
   ]
  },
  {
   "cell_type": "code",
   "execution_count": 4,
   "id": "f7dfe684",
   "metadata": {},
   "outputs": [],
   "source": [
    "# Save the result\n",
    "with open(f'../cache/{criterion}_{design}_small.pkl', 'wb') as file:\n",
    "    pickle.dump(s, file)"
   ]
  }
 ],
 "metadata": {
  "kernelspec": {
   "display_name": "Python 3 (ipykernel)",
   "language": "python",
   "name": "python3"
  },
  "language_info": {
   "codemirror_mode": {
    "name": "ipython",
    "version": 3
   },
   "file_extension": ".py",
   "mimetype": "text/x-python",
   "name": "python",
   "nbconvert_exporter": "python",
   "pygments_lexer": "ipython3",
   "version": "3.8.10"
  }
 },
 "nbformat": 4,
 "nbformat_minor": 5
}
